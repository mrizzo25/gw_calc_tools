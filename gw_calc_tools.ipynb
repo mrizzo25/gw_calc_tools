{
 "cells": [
  {
   "cell_type": "code",
   "execution_count": null,
   "metadata": {
    "collapsed": true
   },
   "outputs": [],
   "source": [
    "'''\n",
    "Web tool for calculating salient quantities in\n",
    "the analysis of astrophysical systems that produce\n",
    "gravitational waves.\n",
    "'''"
   ]
  },
  {
   "cell_type": "code",
   "execution_count": 58,
   "metadata": {
    "collapsed": true
   },
   "outputs": [],
   "source": [
    "import numpy as np\n",
    "import scipy as sp\n",
    "import matplotlib.pyplot as plt\n",
    "import lalsimulation as lalsim\n",
    "%matplotlib inline\n",
    "\n",
    "MSUN_SI = 1.98847e30\n",
    "C_SI = 2.98e8\n",
    "G_SI = 6.674e-11"
   ]
  },
  {
   "cell_type": "code",
   "execution_count": 52,
   "metadata": {
    "collapsed": true
   },
   "outputs": [],
   "source": [
    "#Define dictionary to hold parameters and values\n",
    "params={'m1':1.5,'m2':1.5,'S1':[0.5,.5,.5],'S2':[.5,.5,.5],'L':[.5,.5,.5]}"
   ]
  },
  {
   "cell_type": "code",
   "execution_count": 46,
   "metadata": {
    "collapsed": true
   },
   "outputs": [],
   "source": [
    "#Returns mass ratio\n",
    "def q(params):\n",
    "    #Unpack params\n",
    "    m1=params['m1']\n",
    "    m2=params['m2']\n",
    "    \n",
    "    q=m2/m1\n",
    "    return q"
   ]
  },
  {
   "cell_type": "code",
   "execution_count": 5,
   "metadata": {
    "collapsed": true
   },
   "outputs": [],
   "source": [
    "#Returns chirp mass given component masses\n",
    "def chirpMass(params):\n",
    "    #Unpack params\n",
    "    m1=params['m1']\n",
    "    m2=params['m2']\n",
    "    \n",
    "    Mc = (m1*m2)**(3./5.)/(m1+m2)**(1./5.)\n",
    "    return Mc"
   ]
  },
  {
   "cell_type": "code",
   "execution_count": 6,
   "metadata": {
    "collapsed": true
   },
   "outputs": [],
   "source": [
    "#Returns symmetric mass ratio given component masses\n",
    "def eta(params):\n",
    "    #Unpack params\n",
    "    m1=params['m1']\n",
    "    m2=params['m2']\n",
    "    \n",
    "    eta = m1*m2/(m1+m2)\n",
    "    return eta"
   ]
  },
  {
   "cell_type": "code",
   "execution_count": 56,
   "metadata": {
    "collapsed": false
   },
   "outputs": [],
   "source": [
    "#Returns mass-weighted spin given spins, component masses\n",
    "#Need to check units on these ones\n",
    "def xiEff(params):\n",
    "    #Unpack params\n",
    "    m1=params['m1']\n",
    "    m2=params['m2']\n",
    "    S1=params['S1']\n",
    "    S2=params['S2']\n",
    "    L=params['L']\n",
    "    \n",
    "    xiEff=0\n",
    "    M=m1+m2\n",
    "    Lmag=(L[0]**2.+L[1]**2.+L[2]**2.)**(1./2.)\n",
    "    Lhat=[L[0]/Lmag,L[1]/Lmag,L[2]/Lmag]\n",
    "    for i in range(len(L)):\n",
    "        xiEff+=(S1[i]/m1)*Lhat[i] + (S2[i]/m2)*Lhat[i]\n",
    "    \n",
    "    return (1./M)*xiEff"
   ]
  },
  {
   "cell_type": "code",
   "execution_count": 57,
   "metadata": {
    "collapsed": false
   },
   "outputs": [],
   "source": [
    "#Returns effective precession spin parameter\n",
    "def xiP(params):\n",
    "    #Unpack params\n",
    "    m1=params['m1']\n",
    "    m2=params['m2']\n",
    "    S1=params['S1']\n",
    "    S2=params['S2']\n",
    "    L=params['L']\n",
    "    \n",
    "    q=m2/m1\n",
    "    Lmag=(L[0]**2.+L[1]**2.+L[2]**2.)**(1./2.)\n",
    "    Lhat=[L[0]/Lmag,L[1]/Lmag,L[2]/Lmag]\n",
    "    \n",
    "    #Calculate component of spins in direction of orbital plane\n",
    "    S1perp=[S1[1]*Lhat[2]-S1[2]*Lhat[1],-(S1[0]*Lhat[2]-S1[2]*Lhat[0]),S1[0]*Lhat[1]-S1[1]*Lhat[0]]\n",
    "    S2perp=[S2[1]*Lhat[2]-S2[2]*Lhat[1],-(S2[0]*Lhat[2]-S2[2]*Lhat[0]),S2[0]*Lhat[1]-S2[1]*Lhat[0]]\n",
    "    S1perpMag=(S1perp[0]**2. + S1perp[1]**2. + S1perp[2]**2.)**(1./2.)\n",
    "    S2perpMag=(S2perp[0]**2. + S2perp[1]**2. + S2perp[2]**2.)**(1./2.)\n",
    "    B1=2.+3.*q/2.\n",
    "    B2=2.+3./(2.*q)\n",
    "    \n",
    "    xiP=1./(B1*m1**2.) * max(B1*S1perpMag,B2*S2perpMag)\n",
    "    \n",
    "    return xiP"
   ]
  },
  {
   "cell_type": "code",
   "execution_count": null,
   "metadata": {
    "collapsed": true
   },
   "outputs": [],
   "source": []
  }
 ],
 "metadata": {
  "kernelspec": {
   "display_name": "Python 2",
   "language": "python",
   "name": "python2"
  },
  "language_info": {
   "codemirror_mode": {
    "name": "ipython",
    "version": 2
   },
   "file_extension": ".py",
   "mimetype": "text/x-python",
   "name": "python",
   "nbconvert_exporter": "python",
   "pygments_lexer": "ipython2",
   "version": "2.7.11"
  }
 },
 "nbformat": 4,
 "nbformat_minor": 0
}
